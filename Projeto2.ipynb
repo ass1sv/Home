{
  "nbformat": 4,
  "nbformat_minor": 0,
  "metadata": {
    "colab": {
      "provenance": [],
      "authorship_tag": "ABX9TyMzUwsIzy64zH4FnLWvWj8u",
      "include_colab_link": true
    },
    "kernelspec": {
      "name": "python3",
      "display_name": "Python 3"
    },
    "language_info": {
      "name": "python"
    }
  },
  "cells": [
    {
      "cell_type": "markdown",
      "metadata": {
        "id": "view-in-github",
        "colab_type": "text"
      },
      "source": [
        "<a href=\"https://colab.research.google.com/github/ass1sv/Home/blob/main/Projeto2.ipynb\" target=\"_parent\"><img src=\"https://colab.research.google.com/assets/colab-badge.svg\" alt=\"Open In Colab\"/></a>"
      ]
    },
    {
      "cell_type": "code",
      "source": [
        "#Tabuada do numero inserido\n",
        "passo = range(1,10)\n",
        "variante = 0\n",
        "N = int(input('Digite o numero: '))\n",
        "operacao = str(input('Digite a operacao desejada: ')).lower()\n",
        "\n",
        "if operacao == 'soma':\n",
        "  for i in passo:\n",
        "    variante = N + i\n",
        "    print('{} + {} = {}'.format(N,i,variante))\n",
        "elif operacao == 'subtracao':\n",
        "  for i in passo:\n",
        "    variante = N - i\n",
        "    print('{} - {} = {}'.format(N,i,variante))\n",
        "elif operacao == 'divisao':\n",
        "  for i in passo:\n",
        "    variante = N / i\n",
        "    print ('{} / {} = {}'.format(N,i,variante))\n",
        "elif operacao == 'multiplicacao':\n",
        "  for i in passo:\n",
        "    variante = N * i\n",
        "    print('{} * {} = {}'.format(N,i,variante))\n",
        "else:\n",
        "    print('Operação invalida')"
      ],
      "metadata": {
        "colab": {
          "base_uri": "https://localhost:8080/"
        },
        "id": "YClAEB4tkqFm",
        "outputId": "e574a07a-deab-42ba-e144-9fb56bfe7f52"
      },
      "execution_count": 20,
      "outputs": [
        {
          "output_type": "stream",
          "name": "stdout",
          "text": [
            "Digite o numero: 1\n",
            "Digite a operacao desejada: multiplicacao\n",
            "1 * 1 = 1\n",
            "1 * 2 = 2\n",
            "1 * 3 = 3\n",
            "1 * 4 = 4\n",
            "1 * 5 = 5\n",
            "1 * 6 = 6\n",
            "1 * 7 = 7\n",
            "1 * 8 = 8\n",
            "1 * 9 = 9\n"
          ]
        }
      ]
    },
    {
      "cell_type": "code",
      "source": [
        "#teste logico\n",
        "soma = 0\n",
        "i = 1\n",
        "numeros = []\n",
        "\n",
        "while i < 6:\n",
        "  N = int(input('Digite o {}° numero: '.format(i)))\n",
        "  numeros.append(N)\n",
        "  i += 1\n",
        "  soma += N\n",
        "media = soma / len(numeros)\n",
        "nummaior = max(numeros)\n",
        "nummenor = min(numeros)\n",
        "seqmaior = numeros.index(nummaior) + 1\n",
        "seqmenor = numeros.index(nummenor) + 1\n",
        "print('A quantidade de numeros inseridos foi: {}'.format(len(numeros)))\n",
        "print('A média dos numeros inseridos foi: {}'.format(media))\n",
        "print('O maior numero inserido foi o numero {} na {}° execução'.format(nummaior, seqmaior))\n",
        "print('O menor numero inserido foi o numero {} na {}° execução'.format(nummenor, seqmenor))\n"
      ],
      "metadata": {
        "colab": {
          "base_uri": "https://localhost:8080/"
        },
        "id": "4FWECWTopDIw",
        "outputId": "a5d67d2d-f5a2-494d-8056-c2234e7fa8f8"
      },
      "execution_count": 50,
      "outputs": [
        {
          "output_type": "stream",
          "name": "stdout",
          "text": [
            "Digite o 1° numero: 1\n",
            "Digite o 2° numero: 10\n",
            "Digite o 3° numero: 1\n",
            "Digite o 4° numero: 25\n",
            "Digite o 5° numero: 3\n",
            "A quantidade de numeros inseridos foi: 5\n",
            "A média dos numeros inseridos foi: 8.0\n",
            "O maior numero inserido foi o numero 25 na 4° execução\n",
            "O menor numero inserido foi o numero 1 na 1° execução\n"
          ]
        }
      ]
    },
    {
      "cell_type": "code",
      "source": [
        "#Sequencia Fibonacci\n",
        "soma = 0\n",
        "\n",
        "while soma < 100:\n",
        "  N = int(input('Digite o numero: '))\n",
        "  soma = soma + N\n",
        "  print(soma)\n",
        "  continua = str(input('Deseja continuar? s/n ')).lower()\n",
        "  if continua == 'n':\n",
        "    break\n",
        "print('O resultado final foi: {}'.format(soma))\n"
      ],
      "metadata": {
        "colab": {
          "base_uri": "https://localhost:8080/"
        },
        "id": "Lo01Qdi2u4Nv",
        "outputId": "6ad7c60c-d08c-4c47-80d1-8634c7e2774e"
      },
      "execution_count": 57,
      "outputs": [
        {
          "output_type": "stream",
          "name": "stdout",
          "text": [
            "Digite o numero: 10\n",
            "10\n",
            "Deseja continuar? s/n s\n",
            "Digite o numero: 10\n",
            "20\n",
            "Deseja continuar? s/n n\n",
            "O resultado final foi: 20\n"
          ]
        }
      ]
    }
  ]
}