{
  "nbformat": 4,
  "nbformat_minor": 0,
  "metadata": {
    "colab": {
      "provenance": [],
      "authorship_tag": "ABX9TyP3qmSYxBRROAfDP47RCiub",
      "include_colab_link": true
    },
    "kernelspec": {
      "name": "python3",
      "display_name": "Python 3"
    },
    "language_info": {
      "name": "python"
    }
  },
  "cells": [
    {
      "cell_type": "markdown",
      "metadata": {
        "id": "view-in-github",
        "colab_type": "text"
      },
      "source": [
        "<a href=\"https://colab.research.google.com/github/ass1sv/Home/blob/main/Projeto1.ipynb\" target=\"_parent\"><img src=\"https://colab.research.google.com/assets/colab-badge.svg\" alt=\"Open In Colab\"/></a>"
      ]
    },
    {
      "cell_type": "code",
      "execution_count": null,
      "metadata": {
        "colab": {
          "base_uri": "https://localhost:8080/"
        },
        "id": "fWB4LXCe9BN-",
        "outputId": "dd5f6b89-cb63-4936-d774-9984a49185a6"
      },
      "outputs": [
        {
          "output_type": "stream",
          "name": "stdout",
          "text": [
            "Digite seu primeiro nome: vinicius\n",
            "Digite seu sobrenome: assis\n",
            "Digite sua data de nascimento (DD/MM/AAAA): 14/06/2015\n",
            "Ola, vinicius assis, você não tem permissão para prosseguir com essa compra\n"
          ]
        }
      ],
      "source": [
        "#Sistema check de idade\n",
        "import datetime\n",
        "\n",
        "# Declarar variáveis\n",
        "Nomeprimeiro = str(input('Digite seu primeiro nome: ').lower())\n",
        "Nomesegundo = str(input('Digite seu sobrenome: ').lower())\n",
        "Datastr = input('Digite sua data de nascimento (DD/MM/AAAA): ')\n",
        "\n",
        "# Formatando variável de data\n",
        "Data = datetime.datetime.strptime(Datastr, '%d/%m/%Y').date()\n",
        "\n",
        "def aniversarioformatado():\n",
        "    niverformatado = Data.strftime('%d/%m/%Y')\n",
        "    return niverformatado\n",
        "\n",
        "def dataatual():\n",
        "    datahoje = datetime.date.today()\n",
        "    dataformatada = datahoje.strftime('%d/%m/%Y')\n",
        "    return datahoje  # Retorna a data atual como objeto datetime.date\n",
        "\n",
        "def diferencaanos():\n",
        "    datahoje = dataatual()  # Obtem a data atual como objeto datetime.date\n",
        "    anos = datahoje.year - Data.year\n",
        "    if (datahoje.month, datahoje.day) < (Data.month, Data.day):\n",
        "        anos -= 1\n",
        "    return anos\n",
        "\n",
        "#Teste logico\n",
        "if diferencaanos() < 18:\n",
        "  print('Ola, {} {}, você não tem permissão para prosseguir com essa compra'.format(Nomeprimeiro, Nomesegundo))\n",
        "else:\n",
        "  print('Ola, {} {}, você tem permissão para prosseguir com essa compra'.format(Nomeprimeiro, Nomesegundo))\n",
        "\n",
        "\n",
        "\n"
      ]
    },
    {
      "cell_type": "code",
      "source": [
        "#Média das Provas\n",
        "#Declarar variais\n",
        "Prova1 = float(input('Digite a primeira prova: '))\n",
        "Prova2 = float(input('Digite a segunda prova: '))\n",
        "Prova3 = float(input('Digite a terceira prova: '))\n",
        "Media = (Prova1 + Prova2 + Prova3) / 3\n",
        "\n",
        "#Teste logico\n",
        "if Media>= 8:\n",
        "  print('Você foi aprovado')\n",
        "else:\n",
        "  print('Você foi reprovado')"
      ],
      "metadata": {
        "colab": {
          "base_uri": "https://localhost:8080/"
        },
        "id": "vN9MjEnZfOKV",
        "outputId": "90a53915-49b3-4190-8f91-92832fbe4b62"
      },
      "execution_count": null,
      "outputs": [
        {
          "output_type": "stream",
          "name": "stdout",
          "text": [
            "Digite a primeira prova: 7\n",
            "Digite a segunda prova: 7\n",
            "Digite a terceira prova: 7\n",
            "Você foi reprovado\n"
          ]
        }
      ]
    },
    {
      "cell_type": "code",
      "source": [
        "#Leitor de Numeros pares/impar\n",
        "# Declarar variáveis\n",
        "Altura = float(input('Digite sua altura: (Ex: 1.70) '))\n",
        "\n",
        "# Convertendo a altura para um inteiro\n",
        "Altura_inteira = float(Altura) * 100\n",
        "\n",
        "Teste = Altura_inteira % 2\n",
        "\n",
        "if Teste == 0:\n",
        "    print('A parte inteira da sua altura é par')\n",
        "else:\n",
        "    print('A parte inteira da sua altura é ímpar')\n"
      ],
      "metadata": {
        "colab": {
          "base_uri": "https://localhost:8080/"
        },
        "id": "ZWWsRs7jiFYg",
        "outputId": "7bbc8a57-a37d-475b-cc36-413eea66c8ef"
      },
      "execution_count": null,
      "outputs": [
        {
          "output_type": "stream",
          "name": "stdout",
          "text": [
            "Digite sua altura: 1.70\n",
            "A parte inteira da sua altura é par\n"
          ]
        }
      ]
    },
    {
      "cell_type": "code",
      "source": [
        "#Contador de dias\n",
        "#Declarar variaveis\n",
        "Ndias = int(input('Digite a quantidade de dias: '))\n",
        "Tri1 = int(90)\n",
        "Tri2 = int(180)\n",
        "Tri3 = int(270)\n",
        "\n",
        "#Teste logico\n",
        "if Ndias <= Tri1:\n",
        "  print('Você esta no 1° trimestre do ano')\n",
        "elif Ndias <= Tri2:\n",
        "  print('Você esta no 2° trimestre do ano')\n",
        "elif Ndias <= Tri3:\n",
        "  print('Você esta no 3° trimestre do ano')\n",
        "else:\n",
        "  print('Você esta no 4° trimestre do ano')"
      ],
      "metadata": {
        "colab": {
          "base_uri": "https://localhost:8080/"
        },
        "id": "SPLjtxGc4BKe",
        "outputId": "185086da-bc57-48a5-dbb6-9e38d36ae503"
      },
      "execution_count": null,
      "outputs": [
        {
          "output_type": "stream",
          "name": "stdout",
          "text": [
            "Digite a quantidade de dias: 280\n",
            "Você esta no 4° trimestre do ano\n"
          ]
        }
      ]
    },
    {
      "cell_type": "code",
      "source": [
        "#Leitor de maior numero\n",
        "#Declarar variaveis\n",
        "N1 = float(input('Digite o primeiro numero: '))\n",
        "N2 = float(input('Digite o segundo numero: '))\n",
        "N3 = float(input('Digite o terceiro numero: '))\n",
        "\n",
        "#Teste Logico\n",
        "if N1 > (N2 or N3):\n",
        "  print('O maior numero é N1: {}'.format(N1))\n",
        "elif N2 > (N1 or N3):\n",
        "  print('O maior numero é N2: {}'.format(N2))\n",
        "else:\n",
        "  print('O maior numero é N3: {}'.format(N3))\n",
        "\n",
        "\n",
        "if N1 == N2:\n",
        "  print('N1 e N2 são iguais')\n",
        "elif N1 == N3:\n",
        "  print('N1 e N3 numeros são iguais')\n",
        "elif N2 == N3:\n",
        "  print('N2 e N3 numeros são iguais')\n",
        "else:\n",
        "  print()"
      ],
      "metadata": {
        "colab": {
          "base_uri": "https://localhost:8080/"
        },
        "id": "ufuW2ORx5HPL",
        "outputId": "fc03c79c-e693-4e6b-d72b-434752fb008e"
      },
      "execution_count": null,
      "outputs": [
        {
          "output_type": "stream",
          "name": "stdout",
          "text": [
            "Digite o primeiro numero: 5\n",
            "Digite o segundo numero: 7\n",
            "Digite o terceiro numero: 7\n",
            "O maior numero é N2: 7.0\n",
            "N2 e N3 numeros são iguais\n"
          ]
        }
      ]
    }
  ]
}